{
 "cells": [
  {
   "cell_type": "markdown",
   "metadata": {},
   "source": [
    "## Joker Reviews Analysis \n",
    "### This Notebook will conduct some simple EDA into reviews of the Joker and attempt to determine how succesful the TextBlob sentimental analysis library is in determining the score out of 10 given by each review "
   ]
  },
  {
   "cell_type": "markdown",
   "metadata": {},
   "source": [
    "First things first, scraping data from IMDB website"
   ]
  },
  {
   "cell_type": "code",
   "execution_count": 1,
   "metadata": {},
   "outputs": [],
   "source": [
    "# import libraries \n",
    "\n",
    "import requests\n",
    "from bs4 import BeautifulSoup\n",
    "import pickle \n",
    "import pandas as pd"
   ]
  },
  {
   "cell_type": "code",
   "execution_count": 2,
   "metadata": {},
   "outputs": [],
   "source": [
    "page = requests.get('https://www.imdb.com/title/tt7286456/reviews?sort=helpfulnessScore&dir=desc&ratingFilter=0').text\n",
    "soup = BeautifulSoup(page,'lxml')"
   ]
  },
  {
   "cell_type": "code",
   "execution_count": 3,
   "metadata": {},
   "outputs": [],
   "source": [
    "texty = [p.text for p in soup.find_all(class_ = 'text show-more__control')]\n",
    "\n",
    "#find all reviews"
   ]
  },
  {
   "cell_type": "code",
   "execution_count": 4,
   "metadata": {},
   "outputs": [],
   "source": [
    "score = [p.text for p in soup.find_all(class_ = 'ipl-ratings-bar')]\n",
    "\n",
    "#parsing all scores"
   ]
  },
  {
   "cell_type": "code",
   "execution_count": 5,
   "metadata": {},
   "outputs": [],
   "source": [
    "scores = []\n",
    "for i in score:\n",
    "    i = i[7:-5]\n",
    "    scores.append(i)\n",
    "\n",
    "    \n",
    "#parsing scores so that only relevant part of string remains"
   ]
  },
  {
   "cell_type": "code",
   "execution_count": 6,
   "metadata": {},
   "outputs": [],
   "source": [
    "reviews_imdb = pd.DataFrame(texty)\n",
    "reviews_imdb = reviews_imdb.rename(columns={0: \"Text\"})"
   ]
  },
  {
   "cell_type": "code",
   "execution_count": 7,
   "metadata": {},
   "outputs": [],
   "source": [
    "scores_imdb = pd.DataFrame(scores)\n",
    "scores_imdb = scores_imdb.rename(columns={0: \"Score out of 10\"})"
   ]
  },
  {
   "cell_type": "code",
   "execution_count": 8,
   "metadata": {},
   "outputs": [],
   "source": [
    "imdb = pd.concat([reviews_imdb,scores_imdb], axis = 1)"
   ]
  },
  {
   "cell_type": "code",
   "execution_count": 9,
   "metadata": {},
   "outputs": [],
   "source": [
    "#change score column to integer\n",
    "\n",
    "imdb['Score out of 10'] = pd.to_numeric(imdb[\"Score out of 10\"])"
   ]
  },
  {
   "cell_type": "markdown",
   "metadata": {},
   "source": [
    "## Exploratory Analysis "
   ]
  },
  {
   "cell_type": "code",
   "execution_count": 10,
   "metadata": {},
   "outputs": [],
   "source": [
    "import sklearn"
   ]
  },
  {
   "cell_type": "code",
   "execution_count": 11,
   "metadata": {},
   "outputs": [
    {
     "data": {
      "text/html": [
       "<div>\n",
       "<style scoped>\n",
       "    .dataframe tbody tr th:only-of-type {\n",
       "        vertical-align: middle;\n",
       "    }\n",
       "\n",
       "    .dataframe tbody tr th {\n",
       "        vertical-align: top;\n",
       "    }\n",
       "\n",
       "    .dataframe thead th {\n",
       "        text-align: right;\n",
       "    }\n",
       "</style>\n",
       "<table border=\"1\" class=\"dataframe\">\n",
       "  <thead>\n",
       "    <tr style=\"text-align: right;\">\n",
       "      <th></th>\n",
       "      <th>10</th>\n",
       "      <th>100</th>\n",
       "      <th>2019</th>\n",
       "      <th>90</th>\n",
       "      <th>able</th>\n",
       "      <th>absolutely</th>\n",
       "      <th>absurd</th>\n",
       "      <th>accomplishes</th>\n",
       "      <th>account</th>\n",
       "      <th>achievement</th>\n",
       "      <th>...</th>\n",
       "      <th>worth</th>\n",
       "      <th>worthy</th>\n",
       "      <th>wouldn</th>\n",
       "      <th>writer</th>\n",
       "      <th>writing</th>\n",
       "      <th>wrong</th>\n",
       "      <th>year</th>\n",
       "      <th>years</th>\n",
       "      <th>yes</th>\n",
       "      <th>yesterday</th>\n",
       "    </tr>\n",
       "  </thead>\n",
       "  <tbody>\n",
       "    <tr>\n",
       "      <td>0</td>\n",
       "      <td>0</td>\n",
       "      <td>0</td>\n",
       "      <td>0</td>\n",
       "      <td>0</td>\n",
       "      <td>0</td>\n",
       "      <td>0</td>\n",
       "      <td>0</td>\n",
       "      <td>0</td>\n",
       "      <td>0</td>\n",
       "      <td>1</td>\n",
       "      <td>...</td>\n",
       "      <td>0</td>\n",
       "      <td>0</td>\n",
       "      <td>0</td>\n",
       "      <td>0</td>\n",
       "      <td>1</td>\n",
       "      <td>1</td>\n",
       "      <td>0</td>\n",
       "      <td>0</td>\n",
       "      <td>0</td>\n",
       "      <td>0</td>\n",
       "    </tr>\n",
       "    <tr>\n",
       "      <td>1</td>\n",
       "      <td>0</td>\n",
       "      <td>0</td>\n",
       "      <td>0</td>\n",
       "      <td>0</td>\n",
       "      <td>0</td>\n",
       "      <td>0</td>\n",
       "      <td>0</td>\n",
       "      <td>0</td>\n",
       "      <td>0</td>\n",
       "      <td>0</td>\n",
       "      <td>...</td>\n",
       "      <td>0</td>\n",
       "      <td>0</td>\n",
       "      <td>0</td>\n",
       "      <td>0</td>\n",
       "      <td>0</td>\n",
       "      <td>0</td>\n",
       "      <td>0</td>\n",
       "      <td>0</td>\n",
       "      <td>0</td>\n",
       "      <td>0</td>\n",
       "    </tr>\n",
       "    <tr>\n",
       "      <td>2</td>\n",
       "      <td>0</td>\n",
       "      <td>0</td>\n",
       "      <td>0</td>\n",
       "      <td>0</td>\n",
       "      <td>0</td>\n",
       "      <td>0</td>\n",
       "      <td>0</td>\n",
       "      <td>0</td>\n",
       "      <td>0</td>\n",
       "      <td>0</td>\n",
       "      <td>...</td>\n",
       "      <td>0</td>\n",
       "      <td>0</td>\n",
       "      <td>0</td>\n",
       "      <td>0</td>\n",
       "      <td>0</td>\n",
       "      <td>0</td>\n",
       "      <td>0</td>\n",
       "      <td>0</td>\n",
       "      <td>0</td>\n",
       "      <td>0</td>\n",
       "    </tr>\n",
       "    <tr>\n",
       "      <td>3</td>\n",
       "      <td>0</td>\n",
       "      <td>0</td>\n",
       "      <td>1</td>\n",
       "      <td>0</td>\n",
       "      <td>0</td>\n",
       "      <td>0</td>\n",
       "      <td>0</td>\n",
       "      <td>0</td>\n",
       "      <td>0</td>\n",
       "      <td>0</td>\n",
       "      <td>...</td>\n",
       "      <td>0</td>\n",
       "      <td>0</td>\n",
       "      <td>0</td>\n",
       "      <td>0</td>\n",
       "      <td>0</td>\n",
       "      <td>0</td>\n",
       "      <td>0</td>\n",
       "      <td>0</td>\n",
       "      <td>0</td>\n",
       "      <td>0</td>\n",
       "    </tr>\n",
       "    <tr>\n",
       "      <td>4</td>\n",
       "      <td>0</td>\n",
       "      <td>0</td>\n",
       "      <td>0</td>\n",
       "      <td>0</td>\n",
       "      <td>0</td>\n",
       "      <td>0</td>\n",
       "      <td>0</td>\n",
       "      <td>1</td>\n",
       "      <td>0</td>\n",
       "      <td>0</td>\n",
       "      <td>...</td>\n",
       "      <td>0</td>\n",
       "      <td>0</td>\n",
       "      <td>0</td>\n",
       "      <td>0</td>\n",
       "      <td>0</td>\n",
       "      <td>0</td>\n",
       "      <td>0</td>\n",
       "      <td>0</td>\n",
       "      <td>0</td>\n",
       "      <td>0</td>\n",
       "    </tr>\n",
       "  </tbody>\n",
       "</table>\n",
       "<p>5 rows × 802 columns</p>\n",
       "</div>"
      ],
      "text/plain": [
       "   10  100  2019  90  able  absolutely  absurd  accomplishes  account  \\\n",
       "0   0    0     0   0     0           0       0             0        0   \n",
       "1   0    0     0   0     0           0       0             0        0   \n",
       "2   0    0     0   0     0           0       0             0        0   \n",
       "3   0    0     1   0     0           0       0             0        0   \n",
       "4   0    0     0   0     0           0       0             1        0   \n",
       "\n",
       "   achievement  ...  worth  worthy  wouldn  writer  writing  wrong  year  \\\n",
       "0            1  ...      0       0       0       0        1      1     0   \n",
       "1            0  ...      0       0       0       0        0      0     0   \n",
       "2            0  ...      0       0       0       0        0      0     0   \n",
       "3            0  ...      0       0       0       0        0      0     0   \n",
       "4            0  ...      0       0       0       0        0      0     0   \n",
       "\n",
       "   years  yes  yesterday  \n",
       "0      0    0          0  \n",
       "1      0    0          0  \n",
       "2      0    0          0  \n",
       "3      0    0          0  \n",
       "4      0    0          0  \n",
       "\n",
       "[5 rows x 802 columns]"
      ]
     },
     "execution_count": 11,
     "metadata": {},
     "output_type": "execute_result"
    }
   ],
   "source": [
    "from sklearn.feature_extraction.text import CountVectorizer\n",
    "\n",
    "cv = CountVectorizer(stop_words='english')\n",
    "\n",
    "#tokenise each review and count number of instances of words - ignoring pointless words such as the, and, in \n",
    "\n",
    "data_cv = cv.fit_transform(imdb.Text)\n",
    "\n",
    "data_dtm = pd.DataFrame(data_cv.toarray(), columns=cv.get_feature_names())\n",
    "\n",
    "#convert to visualisation \n",
    "data_dtm.head()"
   ]
  },
  {
   "cell_type": "code",
   "execution_count": 12,
   "metadata": {},
   "outputs": [],
   "source": [
    "fx = pd.DataFrame(data_dtm.sum())\n",
    "\n",
    "#summing dataframe to look for general trends in the language use in the reviews - bear in mind most reviews were\n",
    "#very positive in this smaple - with the lowest still being 7/10"
   ]
  },
  {
   "cell_type": "code",
   "execution_count": 41,
   "metadata": {},
   "outputs": [
    {
     "data": {
      "text/plain": [
       "<matplotlib.axes._subplots.AxesSubplot at 0x11cb511d0>"
      ]
     },
     "execution_count": 41,
     "metadata": {},
     "output_type": "execute_result"
    },
    {
     "data": {
      "image/png": "[encoded data removed]",
      "text/plain": [
       "<Figure size 1152x576 with 1 Axes>"
      ]
     },
     "metadata": {
      "needs_background": "light"
     },
     "output_type": "display_data"
    }
   ],
   "source": [
    "fx.sort_values(by = 0, ascending=False).head(50).plot.bar(figsize= (16,8), title =\"Word Frequency\", legend = None)\n",
    "\n",
    "#visualise "
   ]
  },
  {
   "cell_type": "markdown",
   "metadata": {},
   "source": [
    "## Sentimental Analysis "
   ]
  },
  {
   "cell_type": "code",
   "execution_count": 14,
   "metadata": {},
   "outputs": [
    {
     "name": "stdout",
     "output_type": "stream",
     "text": [
      "Requirement already satisfied: textblob in /opt/anaconda3/lib/python3.7/site-packages (0.15.3)\n",
      "Requirement already satisfied: nltk>=3.1 in /opt/anaconda3/lib/python3.7/site-packages (from textblob) (3.4.5)\n",
      "Requirement already satisfied: six in /opt/anaconda3/lib/python3.7/site-packages (from nltk>=3.1->textblob) (1.12.0)\n",
      "Note: you may need to restart the kernel to use updated packages.\n"
     ]
    }
   ],
   "source": [
    "pip install textblob"
   ]
  },
  {
   "cell_type": "code",
   "execution_count": 15,
   "metadata": {},
   "outputs": [],
   "source": [
    "from textblob import TextBlob\n",
    "\n",
    "pol = lambda x: TextBlob(x).sentiment.polarity\n",
    "sub = lambda x: TextBlob(x).sentiment.subjectivity \n",
    "\n",
    "imdb[\"Polarity\"] = imdb[\"Text\"].apply(pol)\n",
    "imdb[\"Subjectivity\"] = imdb[\"Text\"].apply(sub)"
   ]
  },
  {
   "cell_type": "code",
   "execution_count": 16,
   "metadata": {},
   "outputs": [
    {
     "data": {
      "text/html": [
       "<div>\n",
       "<style scoped>\n",
       "    .dataframe tbody tr th:only-of-type {\n",
       "        vertical-align: middle;\n",
       "    }\n",
       "\n",
       "    .dataframe tbody tr th {\n",
       "        vertical-align: top;\n",
       "    }\n",
       "\n",
       "    .dataframe thead th {\n",
       "        text-align: right;\n",
       "    }\n",
       "</style>\n",
       "<table border=\"1\" class=\"dataframe\">\n",
       "  <thead>\n",
       "    <tr style=\"text-align: right;\">\n",
       "      <th></th>\n",
       "      <th>Text</th>\n",
       "      <th>Score out of 10</th>\n",
       "      <th>Polarity</th>\n",
       "      <th>Subjectivity</th>\n",
       "    </tr>\n",
       "  </thead>\n",
       "  <tbody>\n",
       "    <tr>\n",
       "      <td>0</td>\n",
       "      <td>I was a person that saw all the hype and claim...</td>\n",
       "      <td>10</td>\n",
       "      <td>0.288235</td>\n",
       "      <td>0.647059</td>\n",
       "    </tr>\n",
       "    <tr>\n",
       "      <td>1</td>\n",
       "      <td>Every once in a while a movie comes, that trul...</td>\n",
       "      <td>10</td>\n",
       "      <td>-0.025317</td>\n",
       "      <td>0.498730</td>\n",
       "    </tr>\n",
       "    <tr>\n",
       "      <td>2</td>\n",
       "      <td>This is a movie that only those who have felt ...</td>\n",
       "      <td>10</td>\n",
       "      <td>-0.031250</td>\n",
       "      <td>0.718750</td>\n",
       "    </tr>\n",
       "    <tr>\n",
       "      <td>3</td>\n",
       "      <td>Truly a masterpiece, The Best Hollywood film o...</td>\n",
       "      <td>10</td>\n",
       "      <td>0.273750</td>\n",
       "      <td>0.581667</td>\n",
       "    </tr>\n",
       "    <tr>\n",
       "      <td>4</td>\n",
       "      <td>Joaquin Phoenix gives a tour de force performa...</td>\n",
       "      <td>10</td>\n",
       "      <td>-0.081481</td>\n",
       "      <td>0.705556</td>\n",
       "    </tr>\n",
       "    <tr>\n",
       "      <td>5</td>\n",
       "      <td>Most of the time movies are anticipated like t...</td>\n",
       "      <td>10</td>\n",
       "      <td>0.135294</td>\n",
       "      <td>0.485294</td>\n",
       "    </tr>\n",
       "    <tr>\n",
       "      <td>6</td>\n",
       "      <td>Let me start off by saying if Joaquin Phoneix ...</td>\n",
       "      <td>10</td>\n",
       "      <td>0.162500</td>\n",
       "      <td>0.675000</td>\n",
       "    </tr>\n",
       "    <tr>\n",
       "      <td>7</td>\n",
       "      <td>I get why some people hate this . It's because...</td>\n",
       "      <td>10</td>\n",
       "      <td>0.150000</td>\n",
       "      <td>0.580000</td>\n",
       "    </tr>\n",
       "    <tr>\n",
       "      <td>8</td>\n",
       "      <td>I have seen Joker yesterday at Venice an early...</td>\n",
       "      <td>10</td>\n",
       "      <td>0.130631</td>\n",
       "      <td>0.571772</td>\n",
       "    </tr>\n",
       "    <tr>\n",
       "      <td>9</td>\n",
       "      <td>It's sad that Joaquin missed Oscar for 'The gl...</td>\n",
       "      <td>10</td>\n",
       "      <td>0.244103</td>\n",
       "      <td>0.485641</td>\n",
       "    </tr>\n",
       "  </tbody>\n",
       "</table>\n",
       "</div>"
      ],
      "text/plain": [
       "                                                Text  Score out of 10  \\\n",
       "0  I was a person that saw all the hype and claim...               10   \n",
       "1  Every once in a while a movie comes, that trul...               10   \n",
       "2  This is a movie that only those who have felt ...               10   \n",
       "3  Truly a masterpiece, The Best Hollywood film o...               10   \n",
       "4  Joaquin Phoenix gives a tour de force performa...               10   \n",
       "5  Most of the time movies are anticipated like t...               10   \n",
       "6  Let me start off by saying if Joaquin Phoneix ...               10   \n",
       "7  I get why some people hate this . It's because...               10   \n",
       "8  I have seen Joker yesterday at Venice an early...               10   \n",
       "9  It's sad that Joaquin missed Oscar for 'The gl...               10   \n",
       "\n",
       "   Polarity  Subjectivity  \n",
       "0  0.288235      0.647059  \n",
       "1 -0.025317      0.498730  \n",
       "2 -0.031250      0.718750  \n",
       "3  0.273750      0.581667  \n",
       "4 -0.081481      0.705556  \n",
       "5  0.135294      0.485294  \n",
       "6  0.162500      0.675000  \n",
       "7  0.150000      0.580000  \n",
       "8  0.130631      0.571772  \n",
       "9  0.244103      0.485641  "
      ]
     },
     "execution_count": 16,
     "metadata": {},
     "output_type": "execute_result"
    }
   ],
   "source": [
    "imdb.head(10)"
   ]
  },
  {
   "cell_type": "code",
   "execution_count": 17,
   "metadata": {},
   "outputs": [
    {
     "data": {
      "text/plain": [
       "'This is a movie that only those who have felt alone and isolated can truly relate to it. You understand the motive and you feel sorry for the character. A lot of people will see this movie and think that it encourages violence. But truly, this movie should encourage each and every one of us to become a better person, treat everyone with respect and make each other feel like they belong in this world, instead of making them feel isolated.'"
      ]
     },
     "execution_count": 17,
     "metadata": {},
     "output_type": "execute_result"
    }
   ],
   "source": [
    "imdb.iloc[2][0]\n",
    "\n",
    "#closer look at review with low polarity score but 10/10 rating"
   ]
  },
  {
   "cell_type": "code",
   "execution_count": 18,
   "metadata": {},
   "outputs": [
    {
     "data": {
      "text/plain": [
       "\"Every once in a while a movie comes, that truly makes an impact. Joaquin's performance and scenography in all it's brilliance. Grotesque, haunting and cringy. Hard to watch at times,... but so mesmerizing, you won't blink an eye watching it. Tragic, but with seriously funny moments. Emotional rollercoaster - sometimes, with multiple emotions popping-up at the same time.this is far from a typical action-riddled predictable super-hero movie - it's a proper psychological thriller/drama, with the single best character development I have ever seen.\""
      ]
     },
     "execution_count": 18,
     "metadata": {},
     "output_type": "execute_result"
    }
   ],
   "source": [
    "imdb.iloc[1][0]\n",
    "\n",
    "#closer look at reviews with lowe polarity score but 10/10 rating"
   ]
  },
  {
   "cell_type": "code",
   "execution_count": 19,
   "metadata": {},
   "outputs": [
    {
     "data": {
      "text/plain": [
       "'The movie affects you in a way that makes it physically painful to experience, but in a good way.'"
      ]
     },
     "execution_count": 19,
     "metadata": {},
     "output_type": "execute_result"
    }
   ],
   "source": [
    "imdb.iloc[13][0]\n",
    "\n",
    "#closer look at reviews with low polarity scores but 9/10 rating"
   ]
  },
  {
   "cell_type": "markdown",
   "metadata": {},
   "source": [
    "### Observation\n",
    "\n",
    "There is some correlation between postive polarity and higher scores ( some of the lowest positive polarity results came from reviews that were not 10/10).\n",
    "\n",
    "A major issue however is that the only reviews which returned negtive polarity (so should be the lowest scores) were all 10/10. \n",
    "\n",
    "There are three main issues which I think are making analysis difficult or less useful. \n",
    "\n",
    "1. Very little variance in score - almost all are 10/10 - there are no scores below 7/10. \n",
    "2. As these reviews are written by amateurs the text is often short and there is perhaps less consistence in how the text is then reflected in the score they give. Better results might be achieved looking at reviews written by professional reviewers as one might expect greater consitency in the correlation between their language and the score they give.\n",
    "3. Because of the nature of the film, certain reviews (the ones which got negative polarity scores but were 10/10 reviews) use words such as 'grotesque', 'haunting' and 'painful'. This suggests that words which the model percieves as negative is skewing its interpretation of the reviews. It does not consider that humans can find it enjoyable to watch these things - as long as it does not happen to them in real life... "
   ]
  },
  {
   "cell_type": "markdown",
   "metadata": {},
   "source": [
    "### SOLUTION: GATHER BIGGER DATA SAMPLE WITH FULL RANGE OF SCORES"
   ]
  },
  {
   "cell_type": "markdown",
   "metadata": {},
   "source": [
    "## Collecting bigger sample \n",
    "\n",
    "Not the most efficient method but will have to do for now. The following repeats the same code I wrote above to scrape reviews and their scores from IMDB. \n",
    "\n",
    "This gives a more complete dataset with roughly even distribution across the different scores. Each URl is the page for reviews of each of the scores. So one URL is for scores 1/10, another 2/10 and so on across 1/10-10/10.\n",
    "\n",
    "THIS COULD'VE BEEN DONE MUCH MORE EFFICIENTLY, LESSON LEARNT"
   ]
  },
  {
   "cell_type": "code",
   "execution_count": 20,
   "metadata": {},
   "outputs": [],
   "source": [
    "page1 = requests.get('https://www.imdb.com/title/tt7286456/reviews?sort=reviewVolume&dir=desc&ratingFilter=1').text\n",
    "soup1 = BeautifulSoup(page1,'lxml')\n",
    "text1 = [p.text for p in soup1.find_all(class_ = 'text show-more__control')]\n",
    "score1 = [p.text for p in soup1.find_all(class_ = 'ipl-ratings-bar')]\n",
    "\n",
    "scores1 = []\n",
    "for i in score1:\n",
    "    i = i[7:-5]\n",
    "    scores1.append(i)\n",
    "    \n",
    "reviews_imdb1 = pd.DataFrame(text1)\n",
    "reviews_imdb1 = reviews_imdb1.rename(columns={0: \"Text\"})\n",
    "\n",
    "scores_imdb1 = pd.DataFrame(scores1)\n",
    "scores_imdb1 = scores_imdb1.rename(columns={0: \"Score out of 10\"})\n",
    "\n",
    "imdb1_all = pd.concat([reviews_imdb1,scores_imdb1], axis = 1)\n",
    "\n",
    "imdb1_all[\"Polarity\"] = imdb1_all[\"Text\"].apply(pol)\n",
    "imdb1_all[\"Subjectivity\"] = imdb1_all[\"Text\"].apply(sub)\n",
    "imdb1_all[\"Score out of 10\"] = pd.to_numeric(imdb1_all[\"Score out of 10\"])"
   ]
  },
  {
   "cell_type": "code",
   "execution_count": 21,
   "metadata": {},
   "outputs": [],
   "source": [
    "page2 = requests.get('https://www.imdb.com/title/tt7286456/reviews?sort=reviewVolume&dir=desc&ratingFilter=2').text\n",
    "soup2 = BeautifulSoup(page2,'lxml')\n",
    "text2 = [p.text for p in soup2.find_all(class_ = 'text show-more__control')]\n",
    "score2 = [p.text for p in soup2.find_all(class_ = 'ipl-ratings-bar')]\n",
    "\n",
    "scores2 = []\n",
    "for i in score2:\n",
    "    i = i[7:-5]\n",
    "    scores2.append(i)\n",
    "    \n",
    "reviews_imdb2 = pd.DataFrame(text2)\n",
    "reviews_imdb2 = reviews_imdb2.rename(columns={0: \"Text\"})\n",
    "\n",
    "scores_imdb2 = pd.DataFrame(scores2)\n",
    "scores_imdb2 = scores_imdb2.rename(columns={0: \"Score out of 10\"})\n",
    "\n",
    "imdb2_all = pd.concat([reviews_imdb2,scores_imdb2], axis = 1)\n",
    "\n",
    "imdb2_all[\"Polarity\"] = imdb2_all[\"Text\"].apply(pol)\n",
    "imdb2_all[\"Subjectivity\"] = imdb2_all[\"Text\"].apply(sub)\n",
    "imdb2_all[\"Score out of 10\"] = pd.to_numeric(imdb2_all[\"Score out of 10\"])"
   ]
  },
  {
   "cell_type": "code",
   "execution_count": 22,
   "metadata": {},
   "outputs": [],
   "source": [
    "page3 = requests.get('https://www.imdb.com/title/tt7286456/reviews?sort=reviewVolume&dir=desc&ratingFilter=3').text\n",
    "soup3 = BeautifulSoup(page3,'lxml')\n",
    "text3 = [p.text for p in soup3.find_all(class_ = 'text show-more__control')]\n",
    "score3 = [p.text for p in soup3.find_all(class_ = 'ipl-ratings-bar')]\n",
    "\n",
    "scores3 = []\n",
    "for i in score3:\n",
    "    i = i[7:-5]\n",
    "    scores3.append(i)\n",
    "    \n",
    "reviews_imdb3 = pd.DataFrame(text3)\n",
    "reviews_imdb3 = reviews_imdb3.rename(columns={0: \"Text\"})\n",
    "\n",
    "scores_imdb3 = pd.DataFrame(scores3)\n",
    "scores_imdb3 = scores_imdb3.rename(columns={0: \"Score out of 10\"})\n",
    "\n",
    "imdb3_all = pd.concat([reviews_imdb3,scores_imdb3], axis = 1)\n",
    "\n",
    "imdb3_all[\"Polarity\"] = imdb3_all[\"Text\"].apply(pol)\n",
    "imdb3_all[\"Subjectivity\"] = imdb3_all[\"Text\"].apply(sub)\n",
    "imdb3_all[\"Score out of 10\"] = pd.to_numeric(imdb3_all[\"Score out of 10\"])"
   ]
  },
  {
   "cell_type": "code",
   "execution_count": 23,
   "metadata": {},
   "outputs": [],
   "source": [
    "page4 = requests.get('https://www.imdb.com/title/tt7286456/reviews?sort=reviewVolume&dir=desc&ratingFilter=4').text\n",
    "soup4 = BeautifulSoup(page4,'lxml')\n",
    "text4 = [p.text for p in soup4.find_all(class_ = 'text show-more__control')]\n",
    "score4 = [p.text for p in soup4.find_all(class_ = 'ipl-ratings-bar')]\n",
    "\n",
    "scores4 = []\n",
    "for i in score4:\n",
    "    i = i[7:-5]\n",
    "    scores4.append(i)\n",
    "    \n",
    "reviews_imdb4 = pd.DataFrame(text4)\n",
    "reviews_imdb4 = reviews_imdb4.rename(columns={0: \"Text\"})\n",
    "\n",
    "\n",
    "scores_imdb4 = pd.DataFrame(scores4)\n",
    "scores_imdb4 = scores_imdb4.rename(columns={0: \"Score out of 10\"})\n",
    "\n",
    "imdb4_all = pd.concat([reviews_imdb4,scores_imdb4], axis = 1)\n",
    "\n",
    "imdb4_all[\"Polarity\"] = imdb4_all[\"Text\"].apply(pol)\n",
    "imdb4_all[\"Subjectivity\"] = imdb4_all[\"Text\"].apply(sub)\n",
    "imdb4_all[\"Score out of 10\"] = pd.to_numeric(imdb4_all[\"Score out of 10\"])"
   ]
  },
  {
   "cell_type": "code",
   "execution_count": 24,
   "metadata": {},
   "outputs": [],
   "source": [
    "page5 = requests.get('https://www.imdb.com/title/tt7286456/reviews?sort=reviewVolume&dir=desc&ratingFilter=5').text\n",
    "soup5 = BeautifulSoup(page5,'lxml')\n",
    "text5 = [p.text for p in soup5.find_all(class_ = 'text show-more__control')]\n",
    "score5 = [p.text for p in soup5.find_all(class_ = 'ipl-ratings-bar')]\n",
    "\n",
    "scores5 = []\n",
    "for i in score5:\n",
    "    i = i[7:-5]\n",
    "    scores5.append(i)\n",
    "    \n",
    "reviews_imdb5 = pd.DataFrame(text5)\n",
    "reviews_imdb5 = reviews_imdb5.rename(columns={0: \"Text\"})\n",
    "\n",
    "\n",
    "scores_imdb5 = pd.DataFrame(scores5)\n",
    "scores_imdb5 = scores_imdb5.rename(columns={0: \"Score out of 10\"})\n",
    "\n",
    "imdb5_all = pd.concat([reviews_imdb5,scores_imdb5], axis = 1)\n",
    "\n",
    "imdb5_all[\"Polarity\"] = imdb5_all[\"Text\"].apply(pol)\n",
    "imdb5_all[\"Subjectivity\"] = imdb5_all[\"Text\"].apply(sub)\n",
    "imdb5_all[\"Score out of 10\"] = pd.to_numeric(imdb5_all[\"Score out of 10\"])"
   ]
  },
  {
   "cell_type": "code",
   "execution_count": 25,
   "metadata": {},
   "outputs": [],
   "source": [
    "page6 = requests.get('https://www.imdb.com/title/tt7286456/reviews?sort=reviewVolume&dir=desc&ratingFilter=6').text\n",
    "soup6 = BeautifulSoup(page6,'lxml')\n",
    "text6 = [p.text for p in soup6.find_all(class_ = 'text show-more__control')]\n",
    "score6 = [p.text for p in soup6.find_all(class_ = 'ipl-ratings-bar')]\n",
    "\n",
    "scores6 = []\n",
    "for i in score6:\n",
    "    i = i[7:-5]\n",
    "    scores6.append(i)\n",
    "    \n",
    "reviews_imdb6 = pd.DataFrame(text6)\n",
    "reviews_imdb6 = reviews_imdb6.rename(columns={0: \"Text\"})\n",
    "\n",
    "\n",
    "scores_imdb6 = pd.DataFrame(scores6)\n",
    "scores_imdb6 = scores_imdb6.rename(columns={0: \"Score out of 10\"})\n",
    "\n",
    "imdb6_all = pd.concat([reviews_imdb6,scores_imdb6], axis = 1)\n",
    "\n",
    "imdb6_all[\"Polarity\"] = imdb6_all[\"Text\"].apply(pol)\n",
    "imdb6_all[\"Subjectivity\"] = imdb6_all[\"Text\"].apply(sub)\n",
    "imdb6_all[\"Score out of 10\"] = pd.to_numeric(imdb6_all[\"Score out of 10\"])"
   ]
  },
  {
   "cell_type": "code",
   "execution_count": 26,
   "metadata": {},
   "outputs": [],
   "source": [
    "page7 = requests.get('https://www.imdb.com/title/tt7286456/reviews?sort=reviewVolume&dir=desc&ratingFilter=7').text\n",
    "soup7 = BeautifulSoup(page7,'lxml')\n",
    "text7 = [p.text for p in soup7.find_all(class_ = 'text show-more__control')]\n",
    "score7 = [p.text for p in soup7.find_all(class_ = 'ipl-ratings-bar')]\n",
    "\n",
    "scores7 = []\n",
    "for i in score7:\n",
    "    i = i[7:-5]\n",
    "    scores7.append(i)\n",
    "    \n",
    "reviews_imdb7 = pd.DataFrame(text7)\n",
    "reviews_imdb7 = reviews_imdb7.rename(columns={0: \"Text\"})\n",
    "\n",
    "\n",
    "scores_imdb7 = pd.DataFrame(scores7)\n",
    "scores_imdb7 = scores_imdb7.rename(columns={0: \"Score out of 10\"})\n",
    "\n",
    "imdb7_all = pd.concat([reviews_imdb7,scores_imdb7], axis = 1)\n",
    "\n",
    "imdb7_all[\"Polarity\"] = imdb7_all[\"Text\"].apply(pol)\n",
    "imdb7_all[\"Subjectivity\"] = imdb7_all[\"Text\"].apply(sub)\n",
    "imdb7_all[\"Score out of 10\"] = pd.to_numeric(imdb7_all[\"Score out of 10\"])"
   ]
  },
  {
   "cell_type": "code",
   "execution_count": 27,
   "metadata": {},
   "outputs": [],
   "source": [
    "page8 = requests.get('https://www.imdb.com/title/tt7286456/reviews?sort=reviewVolume&dir=desc&ratingFilter=8').text\n",
    "soup8 = BeautifulSoup(page8,'lxml')\n",
    "text8 = [p.text for p in soup8.find_all(class_ = 'text show-more__control')]\n",
    "score8 = [p.text for p in soup8.find_all(class_ = 'ipl-ratings-bar')]\n",
    "\n",
    "scores8 = []\n",
    "for i in score8:\n",
    "    i = i[7:-5]\n",
    "    scores8.append(i)\n",
    "    \n",
    "reviews_imdb8 = pd.DataFrame(text8)\n",
    "reviews_imdb8 = reviews_imdb8.rename(columns={0: \"Text\"})\n",
    "\n",
    "\n",
    "scores_imdb8 = pd.DataFrame(scores8)\n",
    "scores_imdb8 = scores_imdb8.rename(columns={0: \"Score out of 10\"})\n",
    "\n",
    "imdb8_all = pd.concat([reviews_imdb8,scores_imdb8], axis = 1)\n",
    "\n",
    "imdb8_all[\"Polarity\"] = imdb8_all[\"Text\"].apply(pol)\n",
    "imdb8_all[\"Subjectivity\"] = imdb8_all[\"Text\"].apply(sub)\n",
    "imdb8_all[\"Score out of 10\"] = pd.to_numeric(imdb8_all[\"Score out of 10\"])"
   ]
  },
  {
   "cell_type": "code",
   "execution_count": 28,
   "metadata": {},
   "outputs": [],
   "source": [
    "page9 = requests.get('https://www.imdb.com/title/tt7286456/reviews?sort=reviewVolume&dir=desc&ratingFilter=9').text\n",
    "soup9 = BeautifulSoup(page9,'lxml')\n",
    "text9 = [p.text for p in soup9.find_all(class_ = 'text show-more__control')]\n",
    "score9 = [p.text for p in soup9.find_all(class_ = 'ipl-ratings-bar')]\n",
    "\n",
    "scores9 = []\n",
    "for i in score9:\n",
    "    i = i[7:-5]\n",
    "    scores9.append(i)\n",
    "    \n",
    "reviews_imdb9 = pd.DataFrame(text9)\n",
    "reviews_imdb9 = reviews_imdb9.rename(columns={0: \"Text\"})\n",
    "\n",
    "\n",
    "scores_imdb9 = pd.DataFrame(scores9)\n",
    "scores_imdb9 = scores_imdb9.rename(columns={0: \"Score out of 10\"})\n",
    "\n",
    "imdb9_all = pd.concat([reviews_imdb9,scores_imdb9], axis = 1)\n",
    "\n",
    "imdb9_all[\"Polarity\"] = imdb9_all[\"Text\"].apply(pol)\n",
    "imdb9_all[\"Subjectivity\"] = imdb9_all[\"Text\"].apply(sub)\n",
    "imdb9_all[\"Score out of 10\"] = pd.to_numeric(imdb9_all[\"Score out of 10\"])"
   ]
  },
  {
   "cell_type": "code",
   "execution_count": 29,
   "metadata": {},
   "outputs": [],
   "source": [
    "page10 = requests.get('https://www.imdb.com/title/tt7286456/reviews?sort=reviewVolume&dir=desc&ratingFilter=10').text\n",
    "soup10 = BeautifulSoup(page10,'lxml')\n",
    "text10 = [p.text for p in soup10.find_all(class_ = 'text show-more__control')]\n",
    "score10 = [p.text for p in soup10.find_all(class_ = 'ipl-ratings-bar')]\n",
    "\n",
    "scores10 = []\n",
    "for i in score10:\n",
    "    i = i[7:-5]\n",
    "    scores10.append(i)\n",
    "    \n",
    "reviews_imdb10 = pd.DataFrame(text10)\n",
    "reviews_imdb10 = reviews_imdb10.rename(columns={0: \"Text\"})\n",
    "\n",
    "\n",
    "scores_imdb10 = pd.DataFrame(scores10)\n",
    "scores_imdb10 = scores_imdb10.rename(columns={0: \"Score out of 10\"})\n",
    "\n",
    "imdb10_all = pd.concat([reviews_imdb10,scores_imdb10], axis = 1)\n",
    "\n",
    "imdb10_all[\"Polarity\"] = imdb10_all[\"Text\"].apply(pol)\n",
    "imdb10_all[\"Subjectivity\"] = imdb10_all[\"Text\"].apply(sub)\n",
    "imdb10_all[\"Score out of 10\"] = pd.to_numeric(imdb10_all[\"Score out of 10\"])"
   ]
  },
  {
   "cell_type": "code",
   "execution_count": 30,
   "metadata": {},
   "outputs": [],
   "source": [
    "import matplotlib.pyplot as plt"
   ]
  },
  {
   "cell_type": "code",
   "execution_count": 31,
   "metadata": {},
   "outputs": [],
   "source": [
    "alls = imdb3_all.append([imdb1_all, imdb2_all, imdb3_all, imdb4_all , imdb5_all, imdb6_all, imdb7_all,\n",
    "                        imdb8_all, imdb9_all, imdb10_all])\n",
    "\n",
    "#combine all reviews and scores into dataframe"
   ]
  },
  {
   "cell_type": "code",
   "execution_count": 32,
   "metadata": {},
   "outputs": [
    {
     "data": {
      "image/png": "[encoded data removed]",
      "text/plain": [
       "<Figure size 432x288 with 1 Axes>"
      ]
     },
     "metadata": {
      "needs_background": "light"
     },
     "output_type": "display_data"
    },
    {
     "data": {
      "image/png": "[encoded data removed]",
      "text/plain": [
       "<Figure size 432x288 with 1 Axes>"
      ]
     },
     "metadata": {
      "needs_background": "light"
     },
     "output_type": "display_data"
    }
   ],
   "source": [
    "alls.plot(kind='scatter',x='Polarity',y='Score out of 10',color='red')\n",
    "\n",
    "alls.plot(kind='scatter',x='Score out of 10',y='Polarity',color='red')\n",
    "\n",
    "plt.show()\n",
    "\n",
    "#visualising with axes switched over. Small positive correlation indicated in graphs"
   ]
  },
  {
   "cell_type": "code",
   "execution_count": 33,
   "metadata": {},
   "outputs": [
    {
     "data": {
      "text/plain": [
       "<matplotlib.axes._subplots.AxesSubplot at 0x12b95df50>"
      ]
     },
     "execution_count": 33,
     "metadata": {},
     "output_type": "execute_result"
    },
    {
     "data": {
      "image/png": "[encoded data removed]",
      "text/plain": [
       "<Figure size 432x288 with 1 Axes>"
      ]
     },
     "metadata": {
      "needs_background": "light"
     },
     "output_type": "display_data"
    }
   ],
   "source": [
    "import seaborn as sns\n",
    "\n",
    "sns.regplot(x='Score out of 10', y=\"Polarity\", data=alls)\n",
    "\n",
    "#with regression line - this is useful because it is hard to tell how many reviews are in the more concentrated parts,\n",
    "#even though there are a lot of outliers, the majority seem to fall into this, albeit very weak, positive correlation\n",
    "\n",
    "#the plot also tells us there is lower correlation for the lowest scores. Indicating that the\n",
    "#model is least effective in these instances."
   ]
  },
  {
   "cell_type": "code",
   "execution_count": 34,
   "metadata": {},
   "outputs": [
    {
     "name": "stdout",
     "output_type": "stream",
     "text": [
      "Pearsons correlation: 0.422\n"
     ]
    }
   ],
   "source": [
    "from scipy.stats import pearsonr\n",
    "\n",
    "corr, _ = pearsonr(alls.dropna()[\"Score out of 10\"], alls.dropna()['Polarity'])\n",
    "print('Pearsons correlation: %.3f' % corr)\n",
    "\n",
    "#drops any rows with nill values and find pearson correlation coefficient - there is a correlation albeit a weak one"
   ]
  },
  {
   "cell_type": "code",
   "execution_count": 35,
   "metadata": {},
   "outputs": [
    {
     "name": "stdout",
     "output_type": "stream",
     "text": [
      "Spearmans correlation: 0.445\n"
     ]
    }
   ],
   "source": [
    "from scipy.stats import spearmanr\n",
    "\n",
    "corr, _ = spearmanr(alls.dropna()[\"Score out of 10\"], alls.dropna()['Polarity'])\n",
    "print('Spearmans correlation: %.3f' % corr)\n",
    "\n",
    "#drops any rows with nill values and find spearmans correlation coefficient - there is a correlation albeit a weak one"
   ]
  },
  {
   "cell_type": "markdown",
   "metadata": {},
   "source": [
    "### Initially my plan was to train a linear regression model which incorporated with TextBlob sentimental analysis could predict review scores. Given the relatively low correlation I think I need to go back to the drawing board. "
   ]
  },
  {
   "cell_type": "markdown",
   "metadata": {},
   "source": [
    "### Topic Analysis \n",
    "\n",
    "This section will explore whether we can discern distinguishable topics within the reviews. \n",
    "\n",
    "My hypothesis is that these could, if succesful, be something like: acting, cinemtography, the actor (phoenix), the director (phillips), mention of previous interpretations, the message of the movie. \n",
    "\n",
    "I expect the challenge to be that the since the reviews are quite short, there is less material for the model to learn from. "
   ]
  },
  {
   "cell_type": "code",
   "execution_count": 36,
   "metadata": {},
   "outputs": [
    {
     "name": "stderr",
     "output_type": "stream",
     "text": [
      "unable to import 'smart_open.gcs', disabling that module\n"
     ]
    }
   ],
   "source": [
    "from gensim import matutils, models\n",
    "import scipy.sparse"
   ]
  },
  {
   "cell_type": "code",
   "execution_count": 37,
   "metadata": {},
   "outputs": [],
   "source": [
    "data_tdm = data_dtm.transpose()\n",
    "\n",
    "#tranpose to have terms/words on rows index"
   ]
  },
  {
   "cell_type": "code",
   "execution_count": 38,
   "metadata": {},
   "outputs": [],
   "source": [
    "data_tdm = scipy.sparse.csr_matrix(data_tdm)\n",
    "data_tdm = matutils.Sparse2Corpus(data_tdm)\n",
    "\n",
    "#convert to sparse matrix as per requirements of the model"
   ]
  },
  {
   "cell_type": "code",
   "execution_count": 39,
   "metadata": {},
   "outputs": [],
   "source": [
    "id2word = dict((v,k) for k, v in cv.vocabulary_.items())\n",
    "\n",
    "#another requirment of the model - each words needs to be located within the matrix"
   ]
  },
  {
   "cell_type": "code",
   "execution_count": 40,
   "metadata": {},
   "outputs": [
    {
     "data": {
      "text/plain": [
       "[(0,\n",
       "  '0.022*\"joker\" + 0.022*\"film\" + 0.014*\"movie\" + 0.012*\"comic\" + 0.012*\"book\" + 0.012*\"best\" + 0.012*\"joaquin\" + 0.010*\"phoenix\" + 0.009*\"cinematography\" + 0.007*\"making\"'),\n",
       " (1,\n",
       "  '0.037*\"movie\" + 0.022*\"joker\" + 0.011*\"just\" + 0.010*\"phoenix\" + 0.008*\"like\" + 0.008*\"time\" + 0.007*\"felt\" + 0.007*\"joaquin\" + 0.007*\"character\" + 0.007*\"say\"'),\n",
       " (2,\n",
       "  '0.015*\"good\" + 0.015*\"film\" + 0.012*\"reviews\" + 0.012*\"really\" + 0.012*\"people\" + 0.012*\"amazing\" + 0.012*\"think\" + 0.009*\"acting\" + 0.009*\"plot\" + 0.009*\"just\"'),\n",
       " (3,\n",
       "  '0.011*\"performance\" + 0.011*\"movie\" + 0.007*\"joaquin\" + 0.007*\"phoenix\" + 0.007*\"makes\" + 0.007*\"dark\" + 0.007*\"action\" + 0.007*\"knight\" + 0.007*\"emotional\" + 0.007*\"portrayal\"')]"
      ]
     },
     "execution_count": 40,
     "metadata": {},
     "output_type": "execute_result"
    }
   ],
   "source": [
    "lda = models.LdaModel(corpus=data_tdm, id2word=id2word, num_topics=4, passes=30)\n",
    "lda.print_topics()\n",
    "\n",
    "#model does not seem to have worked very well on data set. My thinking is that the issue could be that the reviews\n",
    "#repeat the same words a lot which is compounded by the relative shortness of the reviews themselves."
   ]
  }
 ],
 "metadata": {
  "kernelspec": {
   "display_name": "Python 3",
   "language": "python",
   "name": "python3"
  },
  "language_info": {
   "codemirror_mode": {
    "name": "ipython",
    "version": 3
   },
   "file_extension": ".py",
   "mimetype": "text/x-python",
   "name": "python",
   "nbconvert_exporter": "python",
   "pygments_lexer": "ipython3",
   "version": "3.7.4"
  },
  "toc": {
   "base_numbering": 1,
   "nav_menu": {},
   "number_sections": true,
   "sideBar": true,
   "skip_h1_title": false,
   "title_cell": "Table of Contents",
   "title_sidebar": "Contents",
   "toc_cell": false,
   "toc_position": {},
   "toc_section_display": true,
   "toc_window_display": false
  }
 },
 "nbformat": 4,
 "nbformat_minor": 2
}
